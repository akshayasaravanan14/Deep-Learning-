{
  "nbformat": 4,
  "nbformat_minor": 0,
  "metadata": {
    "colab": {
      "provenance": []
    },
    "kernelspec": {
      "name": "python3",
      "display_name": "Python 3"
    },
    "language_info": {
      "name": "python"
    }
  },
  "cells": [
    {
      "cell_type": "code",
      "execution_count": null,
      "metadata": {
        "id": "KOhPh3IakayW"
      },
      "outputs": [],
      "source": [
        "import numpy as np\n",
        "import pandas as pd\n",
        "import matplotlib.pyplot as plt"
      ]
    },
    {
      "cell_type": "code",
      "source": [
        "import tensorflow as tf"
      ],
      "metadata": {
        "id": "KKH73QV_kprl"
      },
      "execution_count": null,
      "outputs": []
    },
    {
      "cell_type": "code",
      "source": [
        "from tensorflow import keras"
      ],
      "metadata": {
        "id": "pabNKNgpkrlb"
      },
      "execution_count": null,
      "outputs": []
    },
    {
      "cell_type": "code",
      "source": [
        "from sklearn.metrics import confusion_matrix,accuracy_score , classification_report"
      ],
      "metadata": {
        "id": "y-E9omEZkvhb"
      },
      "execution_count": null,
      "outputs": []
    },
    {
      "cell_type": "code",
      "source": [
        "fashion = keras.datasets.fashion_mnist"
      ],
      "metadata": {
        "id": "D0PWbL3ZlR3S"
      },
      "execution_count": null,
      "outputs": []
    },
    {
      "cell_type": "code",
      "source": [
        "(x_train_sp,y_train_sp),(x_test_sp,y_test_sp) = fashion.load_data()"
      ],
      "metadata": {
        "colab": {
          "base_uri": "https://localhost:8080/"
        },
        "id": "_dWVeZhLlWeq",
        "outputId": "0cd7a9fc-a7f1-4c80-9ad6-f2442deda232"
      },
      "execution_count": null,
      "outputs": [
        {
          "output_type": "stream",
          "name": "stdout",
          "text": [
            "Downloading data from https://storage.googleapis.com/tensorflow/tf-keras-datasets/train-labels-idx1-ubyte.gz\n",
            "29515/29515 [==============================] - 0s 0us/step\n",
            "Downloading data from https://storage.googleapis.com/tensorflow/tf-keras-datasets/train-images-idx3-ubyte.gz\n",
            "26421880/26421880 [==============================] - 0s 0us/step\n",
            "Downloading data from https://storage.googleapis.com/tensorflow/tf-keras-datasets/t10k-labels-idx1-ubyte.gz\n",
            "5148/5148 [==============================] - 0s 0us/step\n",
            "Downloading data from https://storage.googleapis.com/tensorflow/tf-keras-datasets/t10k-images-idx3-ubyte.gz\n",
            "4422102/4422102 [==============================] - 0s 0us/step\n"
          ]
        }
      ]
    },
    {
      "cell_type": "code",
      "source": [
        "items_names = [\"T-shirt/Top\",\"Trouser\",\"Pullover\",\"Dress\",\"Coat\",\"Sandal\",\"Shirt\",\"Sneakers\",\"Bag\",\"Ankle Boot\"]"
      ],
      "metadata": {
        "id": "zNSjS5anllC1"
      },
      "execution_count": null,
      "outputs": []
    },
    {
      "cell_type": "code",
      "source": [
        "x_train_sp = x_train_sp.reshape((60000,28,28,1))\n",
        "x_test_sp = x_test_sp.reshape((10000,28,28,1))\n"
      ],
      "metadata": {
        "id": "aiJYlgbnmNJs"
      },
      "execution_count": null,
      "outputs": []
    },
    {
      "cell_type": "code",
      "source": [
        "x_train_norm = x_train_sp/255\n",
        "x_test_norm = x_test_sp/255"
      ],
      "metadata": {
        "id": "W0W4HK07nCnA"
      },
      "execution_count": null,
      "outputs": []
    },
    {
      "cell_type": "code",
      "source": [
        " x_validate, x_train = x_train_norm[:5000], x_train_norm[5000:]\n",
        "y_validate, y_train = y_train_sp[:5000], y_train_sp[5000:]\n",
        "x_test = x_test_norm"
      ],
      "metadata": {
        "id": "Msa74a4qnsUA"
      },
      "execution_count": null,
      "outputs": []
    },
    {
      "cell_type": "code",
      "source": [
        "tf.random.set_seed(42)"
      ],
      "metadata": {
        "id": "rxzEy3dIOuGr"
      },
      "execution_count": null,
      "outputs": []
    },
    {
      "cell_type": "code",
      "source": [
        "model = keras.models.Sequential()"
      ],
      "metadata": {
        "id": "34PH6sImPvTc"
      },
      "execution_count": null,
      "outputs": []
    },
    {
      "cell_type": "code",
      "source": [
        "model.add(keras.layers.Conv2D(filters=32,kernel_size=(3,3),strides = 1,\n",
        "                              padding = 'valid',activation = 'relu',input_shape=(28,28,1)))\n",
        "model.add(keras.layers.MaxPooling2D((2,2)))\n",
        "model.add(keras.layers.Flatten())"
      ],
      "metadata": {
        "id": "qHF7PTWyQEjS"
      },
      "execution_count": null,
      "outputs": []
    },
    {
      "cell_type": "code",
      "source": [
        "model.add(keras.layers.Dense(300,activation = 'relu'))"
      ],
      "metadata": {
        "id": "C1AX6t_HQwBK"
      },
      "execution_count": null,
      "outputs": []
    },
    {
      "cell_type": "code",
      "source": [
        "model.add(keras.layers.Dense(100,activation = 'relu'))\n",
        "model.add(keras.layers.Dense(10,activation = 'softmax'))"
      ],
      "metadata": {
        "id": "2CCanmb6TFM3"
      },
      "execution_count": null,
      "outputs": []
    },
    {
      "cell_type": "code",
      "source": [
        "model.summary()"
      ],
      "metadata": {
        "colab": {
          "base_uri": "https://localhost:8080/"
        },
        "id": "Gg3DquQ6TNiv",
        "outputId": "3bd09f1c-0c7a-4c8d-cdd8-762835a65843"
      },
      "execution_count": null,
      "outputs": [
        {
          "output_type": "stream",
          "name": "stdout",
          "text": [
            "Model: \"sequential\"\n",
            "_________________________________________________________________\n",
            " Layer (type)                Output Shape              Param #   \n",
            "=================================================================\n",
            " conv2d (Conv2D)             (None, 26, 26, 32)        320       \n",
            "                                                                 \n",
            " max_pooling2d (MaxPooling2  (None, 13, 13, 32)        0         \n",
            " D)                                                              \n",
            "                                                                 \n",
            " flatten (Flatten)           (None, 5408)              0         \n",
            "                                                                 \n",
            " dense (Dense)               (None, 300)               1622700   \n",
            "                                                                 \n",
            " dense_1 (Dense)             (None, 100)               30100     \n",
            "                                                                 \n",
            " dense_2 (Dense)             (None, 10)                1010      \n",
            "                                                                 \n",
            "=================================================================\n",
            "Total params: 1654130 (6.31 MB)\n",
            "Trainable params: 1654130 (6.31 MB)\n",
            "Non-trainable params: 0 (0.00 Byte)\n",
            "_________________________________________________________________\n"
          ]
        }
      ]
    },
    {
      "cell_type": "code",
      "source": [
        "model.compile(loss = \"sparse_categorical_crossentropy\",optimizer = \"sgd\",metrics=[\"accuracy\"])"
      ],
      "metadata": {
        "id": "jbRF37JWUE2-"
      },
      "execution_count": null,
      "outputs": []
    },
    {
      "cell_type": "code",
      "source": [
        "model_fit = model.fit(x_train,y_train,epochs= 10,batch_size = 64,validation_data=(x_validate,y_validate))"
      ],
      "metadata": {
        "colab": {
          "base_uri": "https://localhost:8080/"
        },
        "id": "-wUKqWxdVhAZ",
        "outputId": "fc086719-59b9-421b-aaae-030172c7efd4"
      },
      "execution_count": null,
      "outputs": [
        {
          "output_type": "stream",
          "name": "stdout",
          "text": [
            "Epoch 1/10\n",
            "860/860 [==============================] - 56s 63ms/step - loss: 0.8376 - accuracy: 0.7040 - val_loss: 0.7417 - val_accuracy: 0.7322\n",
            "Epoch 2/10\n",
            "860/860 [==============================] - 38s 44ms/step - loss: 0.5301 - accuracy: 0.8071 - val_loss: 0.4976 - val_accuracy: 0.8156\n",
            "Epoch 3/10\n",
            "860/860 [==============================] - 43s 50ms/step - loss: 0.4714 - accuracy: 0.8299 - val_loss: 0.9447 - val_accuracy: 0.6996\n",
            "Epoch 4/10\n",
            "860/860 [==============================] - 39s 45ms/step - loss: 0.4345 - accuracy: 0.8455 - val_loss: 0.4051 - val_accuracy: 0.8598\n",
            "Epoch 5/10\n",
            "860/860 [==============================] - 51s 59ms/step - loss: 0.4100 - accuracy: 0.8531 - val_loss: 0.4085 - val_accuracy: 0.8540\n",
            "Epoch 6/10\n",
            "860/860 [==============================] - 54s 63ms/step - loss: 0.3865 - accuracy: 0.8621 - val_loss: 0.3634 - val_accuracy: 0.8768\n",
            "Epoch 7/10\n",
            "860/860 [==============================] - 43s 50ms/step - loss: 0.3689 - accuracy: 0.8697 - val_loss: 0.3949 - val_accuracy: 0.8582\n",
            "Epoch 8/10\n",
            "860/860 [==============================] - 39s 45ms/step - loss: 0.3548 - accuracy: 0.8719 - val_loss: 0.4783 - val_accuracy: 0.8186\n",
            "Epoch 9/10\n",
            "860/860 [==============================] - 48s 55ms/step - loss: 0.3413 - accuracy: 0.8769 - val_loss: 0.3639 - val_accuracy: 0.8680\n",
            "Epoch 10/10\n",
            "860/860 [==============================] - 52s 60ms/step - loss: 0.3297 - accuracy: 0.8813 - val_loss: 0.3599 - val_accuracy: 0.8718\n"
          ]
        }
      ]
    },
    {
      "cell_type": "code",
      "source": [
        "pd.DataFrame(model_fit.history).plot(figsize=(8,5))\n",
        "plt.title('Model Performance')\n",
        "plt.xlabel('Epochs')\n",
        "plt.ylabel('Performance')\n",
        "plt.grid(True)\n",
        "plt.show()"
      ],
      "metadata": {
        "colab": {
          "base_uri": "https://localhost:8080/",
          "height": 487
        },
        "id": "x--SnE4zWbBu",
        "outputId": "c0762536-4eb8-4be4-96e2-f95bc42c3ca4"
      },
      "execution_count": null,
      "outputs": [
        {
          "output_type": "display_data",
          "data": {
            "text/plain": [
              "<Figure size 800x500 with 1 Axes>"
            ],
            "image/png": "[encoded data removed]"
          },
          "metadata": {}
        }
      ]
    },
    {
      "cell_type": "code",
      "source": [
        "score = model.evaluate(x_test,y_test_sp)"
      ],
      "metadata": {
        "colab": {
          "base_uri": "https://localhost:8080/"
        },
        "id": "DcVztNlVYobj",
        "outputId": "6a03a2a7-a204-4fd0-d2f4-369e4efe2055"
      },
      "execution_count": null,
      "outputs": [
        {
          "output_type": "stream",
          "name": "stdout",
          "text": [
            "313/313 [==============================] - 3s 10ms/step - loss: 0.3881 - accuracy: 0.8556\n"
          ]
        }
      ]
    },
    {
      "cell_type": "code",
      "source": [
        "y_pred = np.argmax(model.predict(x_test),axis = -1)"
      ],
      "metadata": {
        "colab": {
          "base_uri": "https://localhost:8080/"
        },
        "id": "ywfPDRM6ZmcT",
        "outputId": "dfd507b7-dd4b-4925-8da2-d2dc402350b9"
      },
      "execution_count": null,
      "outputs": [
        {
          "output_type": "stream",
          "name": "stdout",
          "text": [
            "313/313 [==============================] - 5s 14ms/step\n"
          ]
        }
      ]
    },
    {
      "cell_type": "code",
      "source": [
        "print('Predicted Class :' , y_pred[:3])"
      ],
      "metadata": {
        "colab": {
          "base_uri": "https://localhost:8080/"
        },
        "id": "lLAp3YqxaK_p",
        "outputId": "ee6fad03-72d2-4c1a-c1b0-d926afcde107"
      },
      "execution_count": null,
      "outputs": [
        {
          "output_type": "stream",
          "name": "stdout",
          "text": [
            "Predicted Class : [9 2 1]\n"
          ]
        }
      ]
    },
    {
      "cell_type": "code",
      "source": [
        "print('Predicted class in labels :',np.array(items_names)[y_pred[:3]])"
      ],
      "metadata": {
        "colab": {
          "base_uri": "https://localhost:8080/"
        },
        "id": "eP0V0yVnakNf",
        "outputId": "55138383-a3c1-4139-9c2f-fd17cac0ddb8"
      },
      "execution_count": null,
      "outputs": [
        {
          "output_type": "stream",
          "name": "stdout",
          "text": [
            "Predicted class in labels : ['Ankle Boot' 'Pullover' 'Trouser']\n"
          ]
        }
      ]
    },
    {
      "cell_type": "code",
      "source": [
        "print('Confusion matrix : \\n',confusion_matrix(y_test_sp,y_pred))"
      ],
      "metadata": {
        "colab": {
          "base_uri": "https://localhost:8080/"
        },
        "id": "RVKIV2Izay0n",
        "outputId": "4aa606db-a57f-4b03-9b0a-5fb99ae77f73"
      },
      "execution_count": null,
      "outputs": [
        {
          "output_type": "stream",
          "name": "stdout",
          "text": [
            "Confusion matrix : \n",
            " [[855   0  17  35   2   2  81   0   7   1]\n",
            " [  3 961   3  25   2   0   5   0   1   0]\n",
            " [ 19   0 853  11  29   0  86   0   2   0]\n",
            " [ 24   6  10 901  17   0  38   0   4   0]\n",
            " [  0   0 201  44 554   0 200   0   1   0]\n",
            " [  0   0   0   1   0 950   0  26   1  22]\n",
            " [156   0  91  26  35   0 684   0   8   0]\n",
            " [  0   0   0   0   0  25   0 856   1 118]\n",
            " [  4   1  12   8   1   2   8   5 958   1]\n",
            " [  0   0   0   0   0   3   1  12   0 984]]\n"
          ]
        }
      ]
    },
    {
      "cell_type": "code",
      "source": [
        "print('Accuracy Score:',accuracy_score(y_test_sp,y_pred))"
      ],
      "metadata": {
        "colab": {
          "base_uri": "https://localhost:8080/"
        },
        "id": "X2ZyP1hrbU00",
        "outputId": "c97d79ba-4cac-4d46-870d-7e1a0ab72724"
      },
      "execution_count": null,
      "outputs": [
        {
          "output_type": "stream",
          "name": "stdout",
          "text": [
            "Accuracy Score: 0.8556\n"
          ]
        }
      ]
    },
    {
      "cell_type": "code",
      "source": [],
      "metadata": {
        "id": "FaVMFPn5bwk0"
      },
      "execution_count": null,
      "outputs": []
    }
  ]
}